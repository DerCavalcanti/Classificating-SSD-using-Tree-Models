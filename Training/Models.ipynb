{
  "nbformat": 4,
  "nbformat_minor": 0,
  "metadata": {
    "colab": {
      "provenance": []
    },
    "kernelspec": {
      "name": "python3",
      "display_name": "Python 3"
    },
    "language_info": {
      "name": "python"
    }
  },
  "cells": [
    {
      "cell_type": "markdown",
      "source": [
        "**Decision Tree Model**"
      ],
      "metadata": {
        "id": "FycNOXUe1L_Z"
      }
    },
    {
      "cell_type": "code",
      "execution_count": null,
      "metadata": {
        "id": "KMpyAwCh1EB6"
      },
      "outputs": [],
      "source": [
        "import scikit\n",
        "import numpy as np"
      ]
    },
    {
      "cell_type": "markdown",
      "source": [
        "**Random-Forest**\n"
      ],
      "metadata": {
        "id": "9Qvx4jfw1p97"
      }
    },
    {
      "cell_type": "code",
      "source": [],
      "metadata": {
        "id": "1M9Cvl0J1oQl"
      },
      "execution_count": null,
      "outputs": []
    },
    {
      "cell_type": "markdown",
      "source": [
        "**Support-Vector Machine (SVM)**"
      ],
      "metadata": {
        "id": "XlevNthU1xIk"
      }
    },
    {
      "cell_type": "code",
      "source": [],
      "metadata": {
        "id": "_6bJoYM93T5G"
      },
      "execution_count": null,
      "outputs": []
    },
    {
      "cell_type": "markdown",
      "source": [
        "**Bagging Model**\n"
      ],
      "metadata": {
        "id": "G09O8wN43VC9"
      }
    },
    {
      "cell_type": "code",
      "source": [],
      "metadata": {
        "id": "7qesYO8p3ijh"
      },
      "execution_count": null,
      "outputs": []
    },
    {
      "cell_type": "markdown",
      "source": [
        "**XGBoost Model**"
      ],
      "metadata": {
        "id": "LeoDcZPC54_8"
      }
    },
    {
      "cell_type": "code",
      "source": [],
      "metadata": {
        "id": "Js4qbG3Y6ZaL"
      },
      "execution_count": null,
      "outputs": []
    }
  ]
}
